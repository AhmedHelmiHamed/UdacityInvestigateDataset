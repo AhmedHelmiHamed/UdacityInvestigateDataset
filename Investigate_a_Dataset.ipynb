{
 "cells": [
  {
   "cell_type": "markdown",
   "metadata": {},
   "source": [
    "\n",
    "# Project: Investigate a Dataset - [TMDB Movies Data]\n",
    "\n",
    "## Table of Contents\n",
    "<ul>\n",
    "<li><a href=\"#intro\">Introduction</a></li>\n",
    "<li><a href=\"#wrangling\">Data Wrangling</a></li>\n",
    "<li><a href=\"#eda\">Exploratory Data Analysis</a></li>\n",
    "<li><a href=\"#conclusions\">Conclusions</a></li>\n",
    "</ul>"
   ]
  },
  {
   "cell_type": "markdown",
   "metadata": {},
   "source": [
    "<a id='intro'></a>\n",
    "## Introduction\n",
    "\n",
    "### Dataset Description \n",
    "\n",
    "This data set contains information about 10,000 movies collected from The Movie Database (TMDb), including user ratings and revenue.\n",
    "Alot of columns are provided that describe too many aspects of data like date of release, genre, revenue, budget, cast director and much other information\n",
    "\n",
    "\n",
    "### Question(s) for Analysis\n",
    "This dataset is very interesting. It has a lot of questions that can be asked. \n",
    "\n",
    "What is the most genres of movies that were produced?  \n",
    "\n",
    "What is the movie with the highest adjusted revenue?\n",
    "\n",
    "Is there a relation between the average user reviews of a movie and its revenue?  \n",
    "\n",
    "Is there a relation between the budget of a movie and its revenue?\n",
    "\n",
    "Are popularlarity and revenue correlated in movies?  \n",
    "\n",
    "In high revenue movies, what are the most geners present?  \n",
    "\n",
    "What are the main characteristics of the high revenue movies when compared to the other movies?  \n",
    "\n",
    "Is the movies industry expanding through the years by the mean of count or is it shrinking?  \n",
    "\n",
    "Who is the director with the most sum of revenues?"
   ]
  },
  {
   "cell_type": "code",
   "execution_count": 1,
   "metadata": {},
   "outputs": [],
   "source": [
    "# Use this cell to set up import statements for all of the packages that you\n",
    "#   plan to use.\n",
    "import pandas as pd\n",
    "import numpy as np\n",
    "import matplotlib.pyplot as plt\n",
    "from pandas import Series\n",
    "%matplotlib inline\n",
    "\n"
   ]
  },
  {
   "cell_type": "code",
   "execution_count": 2,
   "metadata": {},
   "outputs": [],
   "source": [
    "#A predefined function for labelling the visualisations through the code\n",
    "\n",
    "def label(x,y,t):\n",
    "    \"\"\"\n",
    "    x(str):X-axis label\n",
    "    y(str):Y-axis label\n",
    "    t(str):Title of the visualisation\n",
    "    No return\n",
    "    \"\"\"\n",
    "    plt.xlabel(x);\n",
    "    plt.ylabel(y);\n",
    "    plt.title(t);\n",
    "    plt.show();"
   ]
  },
  {
   "cell_type": "code",
   "execution_count": 3,
   "metadata": {},
   "outputs": [
    {
     "name": "stdout",
     "output_type": "stream",
     "text": [
      "Collecting pandas==0.25.0\n",
      "\u001b[?25l  Downloading https://files.pythonhosted.org/packages/1d/9a/7eb9952f4b4d73fbd75ad1d5d6112f407e695957444cb695cbb3cdab918a/pandas-0.25.0-cp36-cp36m-manylinux1_x86_64.whl (10.5MB)\n",
      "\u001b[K    100% |████████████████████████████████| 10.5MB 3.4MB/s eta 0:00:01   46% |███████████████                 | 4.9MB 27.3MB/s eta 0:00:01    73% |███████████████████████▍        | 7.6MB 27.6MB/s eta 0:00:01    86% |███████████████████████████▋    | 9.0MB 29.0MB/s eta 0:00:01\n",
      "\u001b[?25hRequirement already satisfied, skipping upgrade: pytz>=2017.2 in /opt/conda/lib/python3.6/site-packages (from pandas==0.25.0) (2017.3)\n",
      "Collecting numpy>=1.13.3 (from pandas==0.25.0)\n",
      "\u001b[?25l  Downloading https://files.pythonhosted.org/packages/45/b2/6c7545bb7a38754d63048c7696804a0d947328125d81bf12beaa692c3ae3/numpy-1.19.5-cp36-cp36m-manylinux1_x86_64.whl (13.4MB)\n",
      "\u001b[K    100% |████████████████████████████████| 13.4MB 3.1MB/s eta 0:00:01   24% |███████▊                        | 3.2MB 23.8MB/s eta 0:00:01    43% |█████████████▉                  | 5.8MB 26.0MB/s eta 0:00:01    52% |█████████████████               | 7.1MB 26.0MB/s eta 0:00:01    62% |████████████████████            | 8.4MB 26.9MB/s eta 0:00:01    72% |███████████████████████         | 9.6MB 25.6MB/s eta 0:00:01\n",
      "\u001b[?25hRequirement already satisfied, skipping upgrade: python-dateutil>=2.6.1 in /opt/conda/lib/python3.6/site-packages (from pandas==0.25.0) (2.6.1)\n",
      "Requirement already satisfied, skipping upgrade: six>=1.5 in /opt/conda/lib/python3.6/site-packages (from python-dateutil>=2.6.1->pandas==0.25.0) (1.11.0)\n",
      "\u001b[31mtensorflow 1.3.0 requires tensorflow-tensorboard<0.2.0,>=0.1.0, which is not installed.\u001b[0m\n",
      "Installing collected packages: numpy, pandas\n",
      "  Found existing installation: numpy 1.12.1\n",
      "    Uninstalling numpy-1.12.1:\n",
      "      Successfully uninstalled numpy-1.12.1\n",
      "  Found existing installation: pandas 0.23.3\n",
      "    Uninstalling pandas-0.23.3:\n",
      "      Successfully uninstalled pandas-0.23.3\n",
      "Successfully installed numpy-1.19.5 pandas-0.25.0\n"
     ]
    }
   ],
   "source": [
    "# Upgrade pandas to use dataframe.explode() function. \n",
    "!pip install --upgrade pandas==0.25.0"
   ]
  },
  {
   "cell_type": "markdown",
   "metadata": {},
   "source": [
    "<a id='wrangling'></a>\n",
    "## Data Wrangling\n",
    "\n",
    "> **Tip**: In this section of the report, you will load in the data, check for cleanliness, and then trim and clean your dataset for analysis. Make sure that you **document your data cleaning steps in mark-down cells precisely and justify your cleaning decisions.**\n",
    "\n",
    "\n",
    "### General Properties\n",
    "First of all we need to check the given data by checking what are the headers of the columns.  \n",
    "Also, we need to check if there are null value, and if they are in importat rows in the analysis or not.  \n",
    "getting some description of the cells contents is also benefecial. May be there is false data in the content"
   ]
  },
  {
   "cell_type": "code",
   "execution_count": 4,
   "metadata": {},
   "outputs": [
    {
     "name": "stdout",
     "output_type": "stream",
     "text": [
      "       id    imdb_id  popularity     budget     revenue  \\\n",
      "0  135397  tt0369610   32.985763  150000000  1513528810   \n",
      "1   76341  tt1392190   28.419936  150000000   378436354   \n",
      "2  262500  tt2908446   13.112507  110000000   295238201   \n",
      "3  140607  tt2488496   11.173104  200000000  2068178225   \n",
      "4  168259  tt2820852    9.335014  190000000  1506249360   \n",
      "\n",
      "                 original_title  \\\n",
      "0                Jurassic World   \n",
      "1            Mad Max: Fury Road   \n",
      "2                     Insurgent   \n",
      "3  Star Wars: The Force Awakens   \n",
      "4                     Furious 7   \n",
      "\n",
      "                                                cast  \\\n",
      "0  Chris Pratt|Bryce Dallas Howard|Irrfan Khan|Vi...   \n",
      "1  Tom Hardy|Charlize Theron|Hugh Keays-Byrne|Nic...   \n",
      "2  Shailene Woodley|Theo James|Kate Winslet|Ansel...   \n",
      "3  Harrison Ford|Mark Hamill|Carrie Fisher|Adam D...   \n",
      "4  Vin Diesel|Paul Walker|Jason Statham|Michelle ...   \n",
      "\n",
      "                                            homepage          director  \\\n",
      "0                      http://www.jurassicworld.com/   Colin Trevorrow   \n",
      "1                        http://www.madmaxmovie.com/     George Miller   \n",
      "2     http://www.thedivergentseries.movie/#insurgent  Robert Schwentke   \n",
      "3  http://www.starwars.com/films/star-wars-episod...       J.J. Abrams   \n",
      "4                           http://www.furious7.com/         James Wan   \n",
      "\n",
      "                         tagline      ...       \\\n",
      "0              The park is open.      ...        \n",
      "1             What a Lovely Day.      ...        \n",
      "2     One Choice Can Destroy You      ...        \n",
      "3  Every generation has a story.      ...        \n",
      "4            Vengeance Hits Home      ...        \n",
      "\n",
      "                                            overview runtime  \\\n",
      "0  Twenty-two years after the events of Jurassic ...     124   \n",
      "1  An apocalyptic story set in the furthest reach...     120   \n",
      "2  Beatrice Prior must confront her inner demons ...     119   \n",
      "3  Thirty years after defeating the Galactic Empi...     136   \n",
      "4  Deckard Shaw seeks revenge against Dominic Tor...     137   \n",
      "\n",
      "                                      genres  \\\n",
      "0  Action|Adventure|Science Fiction|Thriller   \n",
      "1  Action|Adventure|Science Fiction|Thriller   \n",
      "2         Adventure|Science Fiction|Thriller   \n",
      "3   Action|Adventure|Science Fiction|Fantasy   \n",
      "4                      Action|Crime|Thriller   \n",
      "\n",
      "                                production_companies release_date vote_count  \\\n",
      "0  Universal Studios|Amblin Entertainment|Legenda...       6/9/15       5562   \n",
      "1  Village Roadshow Pictures|Kennedy Miller Produ...      5/13/15       6185   \n",
      "2  Summit Entertainment|Mandeville Films|Red Wago...      3/18/15       2480   \n",
      "3          Lucasfilm|Truenorth Productions|Bad Robot     12/15/15       5292   \n",
      "4  Universal Pictures|Original Film|Media Rights ...       4/1/15       2947   \n",
      "\n",
      "   vote_average  release_year    budget_adj   revenue_adj  \n",
      "0           6.5          2015  1.379999e+08  1.392446e+09  \n",
      "1           7.1          2015  1.379999e+08  3.481613e+08  \n",
      "2           6.3          2015  1.012000e+08  2.716190e+08  \n",
      "3           7.5          2015  1.839999e+08  1.902723e+09  \n",
      "4           7.3          2015  1.747999e+08  1.385749e+09  \n",
      "\n",
      "[5 rows x 21 columns]\n"
     ]
    }
   ],
   "source": [
    "# Load your data and print out a few lines. Perform operations to inspect data\n",
    "#   types and look for instances of missing or possibly errant data.\n",
    "df=pd.read_csv('Database_TMDb_movie_data/tmdb-movies.csv')\n",
    "print(df.head())\n",
    "\n"
   ]
  },
  {
   "cell_type": "code",
   "execution_count": 5,
   "metadata": {},
   "outputs": [
    {
     "name": "stdout",
     "output_type": "stream",
     "text": [
      "<class 'pandas.core.frame.DataFrame'>\n",
      "RangeIndex: 10866 entries, 0 to 10865\n",
      "Data columns (total 21 columns):\n",
      "id                      10866 non-null int64\n",
      "imdb_id                 10856 non-null object\n",
      "popularity              10866 non-null float64\n",
      "budget                  10866 non-null int64\n",
      "revenue                 10866 non-null int64\n",
      "original_title          10866 non-null object\n",
      "cast                    10790 non-null object\n",
      "homepage                2936 non-null object\n",
      "director                10822 non-null object\n",
      "tagline                 8042 non-null object\n",
      "keywords                9373 non-null object\n",
      "overview                10862 non-null object\n",
      "runtime                 10866 non-null int64\n",
      "genres                  10843 non-null object\n",
      "production_companies    9836 non-null object\n",
      "release_date            10866 non-null object\n",
      "vote_count              10866 non-null int64\n",
      "vote_average            10866 non-null float64\n",
      "release_year            10866 non-null int64\n",
      "budget_adj              10866 non-null float64\n",
      "revenue_adj             10866 non-null float64\n",
      "dtypes: float64(4), int64(6), object(11)\n",
      "memory usage: 1.7+ MB\n",
      "None\n"
     ]
    }
   ],
   "source": [
    "#Getting dataset info\n",
    "print(df.info())"
   ]
  },
  {
   "cell_type": "code",
   "execution_count": 6,
   "metadata": {},
   "outputs": [
    {
     "name": "stdout",
     "output_type": "stream",
     "text": [
      "                  id    popularity        budget       revenue       runtime  \\\n",
      "count   10866.000000  10866.000000  1.086600e+04  1.086600e+04  10866.000000   \n",
      "mean    66064.177434      0.646441  1.462570e+07  3.982332e+07    102.070863   \n",
      "std     92130.136561      1.000185  3.091321e+07  1.170035e+08     31.381405   \n",
      "min         5.000000      0.000065  0.000000e+00  0.000000e+00      0.000000   \n",
      "25%     10596.250000      0.207583  0.000000e+00  0.000000e+00     90.000000   \n",
      "50%     20669.000000      0.383856  0.000000e+00  0.000000e+00     99.000000   \n",
      "75%     75610.000000      0.713817  1.500000e+07  2.400000e+07    111.000000   \n",
      "max    417859.000000     32.985763  4.250000e+08  2.781506e+09    900.000000   \n",
      "\n",
      "         vote_count  vote_average  release_year    budget_adj   revenue_adj  \n",
      "count  10866.000000  10866.000000  10866.000000  1.086600e+04  1.086600e+04  \n",
      "mean     217.389748      5.974922   2001.322658  1.755104e+07  5.136436e+07  \n",
      "std      575.619058      0.935142     12.812941  3.430616e+07  1.446325e+08  \n",
      "min       10.000000      1.500000   1960.000000  0.000000e+00  0.000000e+00  \n",
      "25%       17.000000      5.400000   1995.000000  0.000000e+00  0.000000e+00  \n",
      "50%       38.000000      6.000000   2006.000000  0.000000e+00  0.000000e+00  \n",
      "75%      145.750000      6.600000   2011.000000  2.085325e+07  3.369710e+07  \n",
      "max     9767.000000      9.200000   2015.000000  4.250000e+08  2.827124e+09  \n"
     ]
    }
   ],
   "source": [
    "#Getting Dataset description\n",
    "print(df.describe())"
   ]
  },
  {
   "cell_type": "code",
   "execution_count": 7,
   "metadata": {},
   "outputs": [
    {
     "name": "stdout",
     "output_type": "stream",
     "text": [
      "1\n"
     ]
    }
   ],
   "source": [
    "#Getting Dataset duplicated number\n",
    "print(df.duplicated().sum())\n"
   ]
  },
  {
   "cell_type": "markdown",
   "metadata": {},
   "source": [
    "\n",
    "### Data Cleaning\n",
    "- One good thing about our dataset that it is relatively large. We can get reasonable results with a subset from it.  \n",
    "- It was clear from the description of the columns that more than half of the movies have zero value in the budget and the revenue.  \n",
    "- I didn't see that filling them with the mean values will give us good results (specially that movie revenues vary in a huge manner).  \n",
    "- I believe that discarding these rows will make the results more indicative to the reality specially that we already have a large set of movies. so a subset will be also indicative for our analysis  \n",
    "-  Also we have a small amount of movies with zero runtime. I think the better will be filling them with the mean value.  \n",
    "-  Several columns include null values, but most of them include data that will not be very beneficial in my intended analysis like \"homepage\",\"overview\",\"tagline\",\"keywords\",\"cast\",\"imdb_id\" and \"production_companies\". Another column of the \"id\" does not seem to be very importat since we have the title as the unique identifier of the movie.  \n",
    "- Fortunately we have only 1 duplicated value that will be eleminated.\n",
    " "
   ]
  },
  {
   "cell_type": "code",
   "execution_count": 8,
   "metadata": {},
   "outputs": [
    {
     "name": "stdout",
     "output_type": "stream",
     "text": [
      "<class 'pandas.core.frame.DataFrame'>\n",
      "Int64Index: 3855 entries, 0 to 10848\n",
      "Data columns (total 21 columns):\n",
      "id                      3855 non-null int64\n",
      "imdb_id                 3855 non-null object\n",
      "popularity              3855 non-null float64\n",
      "budget                  3855 non-null int64\n",
      "revenue                 3855 non-null int64\n",
      "original_title          3855 non-null object\n",
      "cast                    3851 non-null object\n",
      "homepage                1426 non-null object\n",
      "director                3854 non-null object\n",
      "tagline                 3575 non-null object\n",
      "keywords                3717 non-null object\n",
      "overview                3855 non-null object\n",
      "runtime                 3855 non-null int64\n",
      "genres                  3855 non-null object\n",
      "production_companies    3809 non-null object\n",
      "release_date            3855 non-null object\n",
      "vote_count              3855 non-null int64\n",
      "vote_average            3855 non-null float64\n",
      "release_year            3855 non-null int64\n",
      "budget_adj              3855 non-null float64\n",
      "revenue_adj             3855 non-null float64\n",
      "dtypes: float64(4), int64(6), object(11)\n",
      "memory usage: 662.6+ KB\n",
      "None\n",
      "                  id   popularity        budget       revenue      runtime  \\\n",
      "count    3855.000000  3855.000000  3.855000e+03  3.855000e+03  3855.000000   \n",
      "mean    39888.783398     1.191400  3.720183e+07  1.076589e+08   109.215824   \n",
      "std     67213.815955     1.475002  4.220291e+07  1.765248e+08    19.922166   \n",
      "min         5.000000     0.001117  1.000000e+00  2.000000e+00    15.000000   \n",
      "25%      6074.000000     0.462448  1.000000e+07  1.357645e+07    95.000000   \n",
      "50%     11322.000000     0.797298  2.400000e+07  4.479322e+07   106.000000   \n",
      "75%     38577.000000     1.368245  5.000000e+07  1.241530e+08   119.000000   \n",
      "max    417859.000000    32.985763  4.250000e+08  2.781506e+09   338.000000   \n",
      "\n",
      "        vote_count  vote_average  release_year    budget_adj   revenue_adj  \n",
      "count  3855.000000    3855.00000   3855.000000  3.855000e+03  3.855000e+03  \n",
      "mean    527.611933       6.16786   2001.263294  4.423630e+07  1.370294e+08  \n",
      "std     879.868374       0.79504     11.281989  4.480403e+07  2.160944e+08  \n",
      "min      10.000000       2.20000   1960.000000  9.693980e-01  2.370705e+00  \n",
      "25%      71.000000       5.70000   1995.000000  1.309053e+07  1.834123e+07  \n",
      "50%     204.000000       6.20000   2004.000000  3.001558e+07  6.171861e+07  \n",
      "75%     580.000000       6.70000   2010.000000  6.061307e+07  1.632401e+08  \n",
      "max    9767.000000       8.40000   2015.000000  4.250000e+08  2.827124e+09  \n"
     ]
    }
   ],
   "source": [
    "# After discussing the structure of the data and any problems that need to be\n",
    "#   cleaned, perform those cleaning steps in the second part of this section.\n",
    "#First of all discarding zero revenue and budget movies\n",
    "df=df[df['revenue']!=0]\n",
    "df=df[df['budget']!=0]\n",
    "print(df.info())\n",
    "print(df.describe())\n"
   ]
  },
  {
   "cell_type": "markdown",
   "metadata": {},
   "source": [
    "### After the first cleaning wave\n",
    "- We have 3855 values left. The good thing that the elemination solved some of the other problems like the movie with a zero runtime.  \n",
    "-  Now we will continue cleaning by discarding the duplicated row and discarding the not needed columns."
   ]
  },
  {
   "cell_type": "code",
   "execution_count": 9,
   "metadata": {},
   "outputs": [
    {
     "name": "stdout",
     "output_type": "stream",
     "text": [
      "<class 'pandas.core.frame.DataFrame'>\n",
      "Int64Index: 3854 entries, 0 to 10848\n",
      "Data columns (total 21 columns):\n",
      "id                      3854 non-null int64\n",
      "imdb_id                 3854 non-null object\n",
      "popularity              3854 non-null float64\n",
      "budget                  3854 non-null int64\n",
      "revenue                 3854 non-null int64\n",
      "original_title          3854 non-null object\n",
      "cast                    3850 non-null object\n",
      "homepage                1426 non-null object\n",
      "director                3853 non-null object\n",
      "tagline                 3574 non-null object\n",
      "keywords                3716 non-null object\n",
      "overview                3854 non-null object\n",
      "runtime                 3854 non-null int64\n",
      "genres                  3854 non-null object\n",
      "production_companies    3808 non-null object\n",
      "release_date            3854 non-null object\n",
      "vote_count              3854 non-null int64\n",
      "vote_average            3854 non-null float64\n",
      "release_year            3854 non-null int64\n",
      "budget_adj              3854 non-null float64\n",
      "revenue_adj             3854 non-null float64\n",
      "dtypes: float64(4), int64(6), object(11)\n",
      "memory usage: 662.4+ KB\n",
      "None\n"
     ]
    }
   ],
   "source": [
    "#discarding the duplicated row and checking the result\n",
    "df.drop_duplicates(inplace = True)\n",
    "print(df.info())\n"
   ]
  },
  {
   "cell_type": "markdown",
   "metadata": {},
   "source": [
    "### The number decreased by the 1 duplicated movie which is Teken movie\n",
    "- Next we will remove the unwanted columns"
   ]
  },
  {
   "cell_type": "code",
   "execution_count": 10,
   "metadata": {},
   "outputs": [
    {
     "name": "stdout",
     "output_type": "stream",
     "text": [
      "   popularity     budget     revenue                original_title  \\\n",
      "0   32.985763  150000000  1513528810                Jurassic World   \n",
      "1   28.419936  150000000   378436354            Mad Max: Fury Road   \n",
      "2   13.112507  110000000   295238201                     Insurgent   \n",
      "3   11.173104  200000000  2068178225  Star Wars: The Force Awakens   \n",
      "4    9.335014  190000000  1506249360                     Furious 7   \n",
      "\n",
      "           director  runtime                                     genres  \\\n",
      "0   Colin Trevorrow      124  Action|Adventure|Science Fiction|Thriller   \n",
      "1     George Miller      120  Action|Adventure|Science Fiction|Thriller   \n",
      "2  Robert Schwentke      119         Adventure|Science Fiction|Thriller   \n",
      "3       J.J. Abrams      136   Action|Adventure|Science Fiction|Fantasy   \n",
      "4         James Wan      137                      Action|Crime|Thriller   \n",
      "\n",
      "  release_date  vote_count  vote_average  release_year    budget_adj  \\\n",
      "0       6/9/15        5562           6.5          2015  1.379999e+08   \n",
      "1      5/13/15        6185           7.1          2015  1.379999e+08   \n",
      "2      3/18/15        2480           6.3          2015  1.012000e+08   \n",
      "3     12/15/15        5292           7.5          2015  1.839999e+08   \n",
      "4       4/1/15        2947           7.3          2015  1.747999e+08   \n",
      "\n",
      "    revenue_adj  \n",
      "0  1.392446e+09  \n",
      "1  3.481613e+08  \n",
      "2  2.716190e+08  \n",
      "3  1.902723e+09  \n",
      "4  1.385749e+09  \n"
     ]
    }
   ],
   "source": [
    "#Dropping the unwanted columns\n",
    "df.drop([\"homepage\",\"overview\",\"tagline\",\"keywords\",\"cast\",\"imdb_id\", \"id\" , \"production_companies\"], axis = 1, inplace = True)\n",
    "print(df.head())\n"
   ]
  },
  {
   "cell_type": "markdown",
   "metadata": {},
   "source": [
    "### Converting the genres string into a list\n",
    "- converting the genres into a list will be easier to use when trying to analyze the most yielding genres.  \n",
    "- This part was googled and got from https://stackoverflow.com/questions/45758646/pandas-convert-string-into-list-of-strings but it was customized for sure to match our case\n"
   ]
  },
  {
   "cell_type": "code",
   "execution_count": 11,
   "metadata": {},
   "outputs": [
    {
     "name": "stdout",
     "output_type": "stream",
     "text": [
      "   popularity     budget     revenue                original_title  \\\n",
      "0   32.985763  150000000  1513528810                Jurassic World   \n",
      "1   28.419936  150000000   378436354            Mad Max: Fury Road   \n",
      "2   13.112507  110000000   295238201                     Insurgent   \n",
      "3   11.173104  200000000  2068178225  Star Wars: The Force Awakens   \n",
      "4    9.335014  190000000  1506249360                     Furious 7   \n",
      "\n",
      "           director  runtime                                          genres  \\\n",
      "0   Colin Trevorrow      124  [Action, Adventure, Science Fiction, Thriller]   \n",
      "1     George Miller      120  [Action, Adventure, Science Fiction, Thriller]   \n",
      "2  Robert Schwentke      119          [Adventure, Science Fiction, Thriller]   \n",
      "3       J.J. Abrams      136   [Action, Adventure, Science Fiction, Fantasy]   \n",
      "4         James Wan      137                       [Action, Crime, Thriller]   \n",
      "\n",
      "  release_date  vote_count  vote_average  release_year    budget_adj  \\\n",
      "0       6/9/15        5562           6.5          2015  1.379999e+08   \n",
      "1      5/13/15        6185           7.1          2015  1.379999e+08   \n",
      "2      3/18/15        2480           6.3          2015  1.012000e+08   \n",
      "3     12/15/15        5292           7.5          2015  1.839999e+08   \n",
      "4       4/1/15        2947           7.3          2015  1.747999e+08   \n",
      "\n",
      "    revenue_adj  \n",
      "0  1.392446e+09  \n",
      "1  3.481613e+08  \n",
      "2  2.716190e+08  \n",
      "3  1.902723e+09  \n",
      "4  1.385749e+09  \n"
     ]
    }
   ],
   "source": [
    "#Coverting genres string into a list\n",
    "df.genres=df.genres.str[:].str.split('|').tolist()\n",
    "print(df.head())\n"
   ]
  },
  {
   "cell_type": "code",
   "execution_count": 12,
   "metadata": {},
   "outputs": [
    {
     "name": "stdout",
     "output_type": "stream",
     "text": [
      "<class 'pandas.core.frame.DataFrame'>\n",
      "Int64Index: 3854 entries, 0 to 10848\n",
      "Data columns (total 13 columns):\n",
      "popularity        3854 non-null float64\n",
      "budget            3854 non-null int64\n",
      "revenue           3854 non-null int64\n",
      "original_title    3854 non-null object\n",
      "director          3853 non-null object\n",
      "runtime           3854 non-null int64\n",
      "genres            3854 non-null object\n",
      "release_date      3854 non-null object\n",
      "vote_count        3854 non-null int64\n",
      "vote_average      3854 non-null float64\n",
      "release_year      3854 non-null int64\n",
      "budget_adj        3854 non-null float64\n",
      "revenue_adj       3854 non-null float64\n",
      "dtypes: float64(4), int64(5), object(4)\n",
      "memory usage: 421.5+ KB\n",
      "<class 'pandas.core.frame.DataFrame'>\n",
      "Int64Index: 3853 entries, 0 to 10848\n",
      "Data columns (total 13 columns):\n",
      "popularity        3853 non-null float64\n",
      "budget            3853 non-null int64\n",
      "revenue           3853 non-null int64\n",
      "original_title    3853 non-null object\n",
      "director          3853 non-null object\n",
      "runtime           3853 non-null int64\n",
      "genres            3853 non-null object\n",
      "release_date      3853 non-null object\n",
      "vote_count        3853 non-null int64\n",
      "vote_average      3853 non-null float64\n",
      "release_year      3853 non-null int64\n",
      "budget_adj        3853 non-null float64\n",
      "revenue_adj       3853 non-null float64\n",
      "dtypes: float64(4), int64(5), object(4)\n",
      "memory usage: 421.4+ KB\n"
     ]
    }
   ],
   "source": [
    "#checking the data after cleaning\n",
    "df.info()\n",
    "#we will need to eleminate a single null value from director\n",
    "df=df.dropna()\n",
    "#Checking again\n",
    "df.info()"
   ]
  },
  {
   "cell_type": "markdown",
   "metadata": {},
   "source": [
    "<a id='eda'></a>\n",
    "## Exploratory Data Analysis\n",
    "\n",
    "We will begin by checking some general information about the movies.\n",
    "\n",
    "\n",
    "\n",
    "### Research Question 1 (What are the most produced genres of movies)\n",
    "- Googled plotting histograms from a column of lists https://stackoverflow.com/questions/58720556/how-to-plot-a-histogram-of-a-pandas-series-of-lists  then customization and visualisations were adjusted"
   ]
  },
  {
   "cell_type": "code",
   "execution_count": 13,
   "metadata": {},
   "outputs": [
    {
     "data": {
      "image/png": "[encoded data removed]",
      "text/plain": [
       "<matplotlib.figure.Figure at 0x7fb9552bce48>"
      ]
     },
     "metadata": {
      "needs_background": "light"
     },
     "output_type": "display_data"
    }
   ],
   "source": [
    "# Use this, and more code cells, to explore your data. Don't forget to add\n",
    "#   Markdown cells to document your observations and findings.\n",
    "\n",
    "df['genres'].apply(Series).stack().hist( bins=40,figsize=(20,16));\n",
    "\n",
    "label(\"Number of Movies\",\"Various Genres\",\"Number of Movies vs Various Genres\")"
   ]
  },
  {
   "cell_type": "markdown",
   "metadata": {},
   "source": [
    "- It is found that the most produces genres are Drama, Comedy, Thriller and Action"
   ]
  },
  {
   "cell_type": "markdown",
   "metadata": {},
   "source": [
    "### Research Question 2  (What is the movie with the highest adjusted revenue?) "
   ]
  },
  {
   "cell_type": "code",
   "execution_count": 73,
   "metadata": {},
   "outputs": [
    {
     "data": {
      "text/plain": [
       "1386    Avatar\n",
       "Name: original_title, dtype: object"
      ]
     },
     "execution_count": 73,
     "metadata": {},
     "output_type": "execute_result"
    }
   ],
   "source": [
    "# Continue to explore the data to address your additional research\n",
    "#   questions. Add more headers as needed if you have more questions to\n",
    "#   investigate.\n",
    "df['original_title'][df['revenue_adj'] == df['revenue_adj'].max()]"
   ]
  },
  {
   "cell_type": "markdown",
   "metadata": {},
   "source": [
    "- The movie with the highest revenue is Avatar"
   ]
  },
  {
   "cell_type": "markdown",
   "metadata": {},
   "source": [
    "### Research Question 3  (Does the budget of the movie have an impact on its revenue?)"
   ]
  },
  {
   "cell_type": "code",
   "execution_count": 14,
   "metadata": {},
   "outputs": [
    {
     "data": {
      "image/png": "[encoded data removed]",
      "text/plain": [
       "<matplotlib.figure.Figure at 0x7fb9554d30b8>"
      ]
     },
     "metadata": {
      "needs_background": "light"
     },
     "output_type": "display_data"
    }
   ],
   "source": [
    "#Plotting budgets vs revenues\n",
    "plt.scatter(df['budget'], df['revenue_adj'])\n",
    "\n",
    "label(\"Adjusted Budget\",\"Adjusted Revenue\",\"Adjusted Budget vs Adjusted Revenues of movies\")\n"
   ]
  },
  {
   "cell_type": "markdown",
   "metadata": {},
   "source": [
    "- It is found that there is some correlation between the budget of a movie and its revenue, but it is not that strong correlation as many low budget movies could achieve high revenues"
   ]
  },
  {
   "cell_type": "markdown",
   "metadata": {},
   "source": [
    "### Research Question 4  (Is the average rating of a movie correlated with its revenue?)"
   ]
  },
  {
   "cell_type": "code",
   "execution_count": 15,
   "metadata": {},
   "outputs": [
    {
     "data": {
      "image/png": "[encoded data removed]",
      "text/plain": [
       "<matplotlib.figure.Figure at 0x7fb95489d588>"
      ]
     },
     "metadata": {
      "needs_background": "light"
     },
     "output_type": "display_data"
    }
   ],
   "source": [
    "#Plotting average ratings vs revenues\n",
    "plt.scatter(df['vote_average'], df['revenue_adj'])\n",
    "\n",
    "label(\"Average Rating\",\"Adjusted Revenue\",\"Average Ratings vs Adjusted Revenues of movies\")\n"
   ]
  },
  {
   "cell_type": "markdown",
   "metadata": {},
   "source": [
    "- From the plot it is found that there is a higher correlation between the movie rating and it revenue than the movie budget and its revenue"
   ]
  },
  {
   "cell_type": "markdown",
   "metadata": {},
   "source": [
    "### Research Question 5  (Are popularlarity and revenue correlated in movies?)"
   ]
  },
  {
   "cell_type": "code",
   "execution_count": 16,
   "metadata": {},
   "outputs": [
    {
     "data": {
      "image/png": "[encoded data removed]",
      "text/plain": [
       "<matplotlib.figure.Figure at 0x7fb95351ef28>"
      ]
     },
     "metadata": {
      "needs_background": "light"
     },
     "output_type": "display_data"
    }
   ],
   "source": [
    "#Plotting average ratings vs revenues\n",
    "plt.scatter(df['popularity'], df['revenue_adj'])\n",
    "\n",
    "label(\"Popularity\",\"Adjusted Revenue\",\"Popularity vs Adjusted Revenues of movies\")\n"
   ]
  },
  {
   "cell_type": "markdown",
   "metadata": {},
   "source": [
    "- The popularity of the movie is correlated to the revenue but not as highly correlated  as the user ratings."
   ]
  },
  {
   "cell_type": "markdown",
   "metadata": {},
   "source": [
    "### Research Question 6  (In high revenue movies, what are the most geners present?)"
   ]
  },
  {
   "cell_type": "code",
   "execution_count": 17,
   "metadata": {},
   "outputs": [
    {
     "data": {
      "image/png": "[encoded data removed]",
      "text/plain": [
       "<matplotlib.figure.Figure at 0x7fb955226e48>"
      ]
     },
     "metadata": {
      "needs_background": "light"
     },
     "output_type": "display_data"
    }
   ],
   "source": [
    "#Will create a sub dataset containg the highest 25% revenue movies to analyze\n",
    "df_hi=df[df['revenue_adj']>= df['revenue_adj'].quantile(0.75)]\n",
    "#will plot the histogram of the high revenue movies to get an idea of the high yielding geners\n",
    "df_hi['genres'].apply(Series).stack().hist( bins=40,figsize=(20,16));\n",
    "\n",
    "label(\"Number of High revenue Movies\",\"Various Genres\",\"Number of High revenue Movies vs Various Genres\")"
   ]
  },
  {
   "cell_type": "markdown",
   "metadata": {},
   "source": [
    "- Although the action movies count on the overall set of movies ranked 4th. It is the highest rank in the high revenue movies followed by adventure movies"
   ]
  },
  {
   "cell_type": "markdown",
   "metadata": {},
   "source": [
    "### Research Question 7  (What are the main characteristics of the high revenue movies when compared to the other movies?)"
   ]
  },
  {
   "cell_type": "code",
   "execution_count": 18,
   "metadata": {},
   "outputs": [
    {
     "name": "stdout",
     "output_type": "stream",
     "text": [
      "        popularity        budget       revenue      runtime   vote_count  \\\n",
      "count  3853.000000  3.853000e+03  3.853000e+03  3853.000000  3853.000000   \n",
      "mean      1.191825  3.721227e+07  1.077117e+08   109.208928   527.854399   \n",
      "std       1.475258  4.221035e+07  1.765554e+08    19.912913   880.031643   \n",
      "min       0.001117  1.000000e+00  2.000000e+00    15.000000    10.000000   \n",
      "25%       0.462609  1.000000e+07  1.360940e+07    95.000000    71.000000   \n",
      "50%       0.797723  2.400000e+07  4.480678e+07   106.000000   204.000000   \n",
      "75%       1.368403  5.000000e+07  1.242721e+08   119.000000   580.000000   \n",
      "max      32.985763  4.250000e+08  2.781506e+09   338.000000  9767.000000   \n",
      "\n",
      "       vote_average  release_year    budget_adj   revenue_adj  \n",
      "count   3853.000000   3853.000000  3.853000e+03  3.853000e+03  \n",
      "mean       6.168258   2001.259278  4.425038e+07  1.370974e+08  \n",
      "std        0.795001     11.283517  4.481043e+07  2.161299e+08  \n",
      "min        2.200000   1960.000000  9.693980e-01  2.370705e+00  \n",
      "25%        5.700000   1995.000000  1.309053e+07  1.840420e+07  \n",
      "50%        6.200000   2004.000000  3.001664e+07  6.174274e+07  \n",
      "75%        6.700000   2010.000000  6.061307e+07  1.632752e+08  \n",
      "max        8.400000   2015.000000  4.250000e+08  2.827124e+09  \n",
      "       popularity        budget       revenue     runtime   vote_count  \\\n",
      "count  964.000000  9.640000e+02  9.640000e+02  964.000000   964.000000   \n",
      "mean     2.249021  7.453307e+07  3.121323e+08  117.661826  1291.208506   \n",
      "std      2.337043  5.866793e+07  2.537423e+08   22.871163  1352.573788   \n",
      "min      0.131526  1.130000e+02  2.500000e+07   74.000000    13.000000   \n",
      "25%      1.055439  2.800000e+07  1.637793e+08  100.000000   367.000000   \n",
      "50%      1.638246  6.100000e+07  2.321503e+08  115.000000   803.000000   \n",
      "75%      2.642561  1.050000e+08  3.682613e+08  130.000000  1750.250000   \n",
      "max     32.985763  3.800000e+08  2.781506e+09  248.000000  9767.000000   \n",
      "\n",
      "       vote_average  release_year    budget_adj   revenue_adj  \n",
      "count    964.000000    964.000000  9.640000e+02  9.640000e+02  \n",
      "mean       6.459232   1999.548755  8.699208e+07  4.026172e+08  \n",
      "std        0.710818     12.682262  5.664831e+07  2.948782e+08  \n",
      "min        4.200000   1960.000000  2.248029e+02  1.632752e+08  \n",
      "25%        6.000000   1993.750000  4.261977e+07  2.133481e+08  \n",
      "50%        6.400000   2002.000000  7.755184e+07  3.059925e+08  \n",
      "75%        7.000000   2010.000000  1.211748e+08  4.852349e+08  \n",
      "max        8.300000   2015.000000  3.683713e+08  2.827124e+09  \n"
     ]
    }
   ],
   "source": [
    "#We will print the description of the overall movie set and compare it with the highest 25% movies set to reach conclusions\n",
    "print(df.describe())\n",
    "print(df_hi.describe())"
   ]
  },
  {
   "cell_type": "markdown",
   "metadata": {},
   "source": [
    "### We could find that the characteristics of the high revenue movies are the following:  \n",
    "- Higher average popularity  \n",
    "- Higher average budget  \n",
    "- Higher average user reviews  \n",
    "- Higher Average runtime  \n",
    "- Higher vote count  \n",
    "\n",
    "One of the most interesting outcomes is that the release year is not impacting the revenue that much because the average year of all the movies and the high revenue movies is almost the same"
   ]
  },
  {
   "cell_type": "markdown",
   "metadata": {},
   "source": [
    "### Research Question 8  (Is the movies industry expanding through the years by the mean of count or is it shrinking?)"
   ]
  },
  {
   "cell_type": "code",
   "execution_count": 19,
   "metadata": {},
   "outputs": [
    {
     "data": {
      "image/png": "[encoded data removed]",
      "text/plain": [
       "<matplotlib.figure.Figure at 0x7fb9556d9908>"
      ]
     },
     "metadata": {
      "needs_background": "light"
     },
     "output_type": "display_data"
    }
   ],
   "source": [
    "#Plotting a histogram for release years\n",
    "df['release_year'].hist(bins=80,figsize=(20,16));\n",
    "\n",
    "label(\"Years\",\"Number of Movies in Our sample\",'Increase of Movies Production Through The Years')"
   ]
  },
  {
   "cell_type": "markdown",
   "metadata": {},
   "source": [
    "- It is very obvious that the movie industry is expanding through the years."
   ]
  },
  {
   "cell_type": "markdown",
   "metadata": {},
   "source": [
    "### Research Question 9  (Who is the movie director with highest sum of revenues in the list?)"
   ]
  },
  {
   "cell_type": "code",
   "execution_count": 20,
   "metadata": {},
   "outputs": [
    {
     "data": {
      "text/plain": [
       "1548    Steven Spielberg\n",
       "Name: director, dtype: object"
      ]
     },
     "execution_count": 20,
     "metadata": {},
     "output_type": "execute_result"
    }
   ],
   "source": [
    "df_director_tot_rev = df.groupby(['director'])['revenue_adj'].sum().reset_index()\n",
    "df_director_tot_rev['director'][df_director_tot_rev['revenue_adj'] == df_director_tot_rev['revenue_adj'].max()]\n"
   ]
  },
  {
   "cell_type": "markdown",
   "metadata": {},
   "source": [
    "- As expected, the director with the highest sum of revenues in our dataset is Steven Spielberg"
   ]
  },
  {
   "cell_type": "markdown",
   "metadata": {},
   "source": [
    "<a id='conclusions'></a>\n",
    "## Conclusions  \n",
    "\n",
    "## First of All Limitations:  \n",
    "- Normally it is very hard to reach a 100% clean accurate and complete data. Some assumptions or neglections should be made as a part of cleaning the data before the analysis.  \n",
    "-  In our analysis, our limitation came because there were alot of missing revenue and budget entries. And since most of our analysis was revenue oriented, a decision was made to eleminate all the movies with the missing  budget or revenue values. This left us analyzing only about one third of the dataset and might have had an impact on our results.\n",
    "- Other people analyzing the dataset without caring about the budgets and revenues can eleminate their whole columns and get better analysis results (because they will be dealing with a bigger dataset), but this was not our case\n",
    "\n",
    "\n",
    "\n",
    "### Our findings were mentioned along with the code, but here we will summarize the whole idea.\n",
    "- First of all, since we have a large set of data, I preffered to elminate entries with false values like the zeros in the budget and revenues instead of applying the mean value.  \n",
    "- Some analysis was done to know the most produced genre in the movies and it was found to be \"Drama\".  \n",
    "- I knew previously that Avatar is the movie with the highest revenue ever, but I was curios to know if another movie if another movie could beat it after the inflation adjustment. But I found that it is still the highest.  \n",
    "- It is found that there is some correlation between the budget of a movie and its revenue, but it is not that strong correlation as many low budget movies could achieve high revenues.  \n",
    "- From the plot it is found that there is a higher correlation between the movie rating and it revenue than the movie budget and its revenue.  \n",
    "- The popularity of the movie is correlated to the revenue but not as highly correlated  as the user ratings.  \n",
    "- Although the action movies count on the overall set of movies ranked 4th. It is the highest rank in the high revenue movies followed by adventure movies.  \n",
    "### We could find that the characteristics of the high revenue movies are the following:  \n",
    "- Higher average popularity  \n",
    "- Higher average budget  \n",
    "- Higher average user reviews  \n",
    "- Higher Average runtime  \n",
    "- Higher vote count  \n",
    "\n",
    "One of the most interesting outcomes is that the release year is not impacting the revenue that much because the average year of all the movies and the high revenue movies is almost the same.  \n",
    "\n",
    "Another interesting piece of info is that the movies industry is widely expanding through the years with respect to count.  \n",
    "- The highest yielding director for revenues is Steven Spielberg\n",
    "\n",
    "### From the previous analysis. If you want to get a high revenue movie, consider increasing the budget, hiring Steven Spielber, and it will be better if the gener include action and adventure.\n",
    "\n"
   ]
  },
  {
   "cell_type": "code",
   "execution_count": 22,
   "metadata": {},
   "outputs": [
    {
     "data": {
      "text/plain": [
       "0"
      ]
     },
     "execution_count": 22,
     "metadata": {},
     "output_type": "execute_result"
    }
   ],
   "source": [
    "from subprocess import call\n",
    "call(['python', '-m', 'nbconvert', 'Investigate_a_Dataset.ipynb'])"
   ]
  }
 ],
 "metadata": {
  "kernelspec": {
   "display_name": "Python 3",
   "language": "python",
   "name": "python3"
  },
  "language_info": {
   "codemirror_mode": {
    "name": "ipython",
    "version": 3
   },
   "file_extension": ".py",
   "mimetype": "text/x-python",
   "name": "python",
   "nbconvert_exporter": "python",
   "pygments_lexer": "ipython3",
   "version": "3.6.3"
  }
 },
 "nbformat": 4,
 "nbformat_minor": 2
}
